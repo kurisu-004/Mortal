{
 "cells": [
  {
   "cell_type": "code",
   "execution_count": 1,
   "metadata": {},
   "outputs": [
    {
     "name": "stdout",
     "output_type": "stream",
     "text": [
      "Help on module libriichi:\n",
      "\n",
      "NAME\n",
      "    libriichi\n",
      "\n",
      "DESCRIPTION\n",
      "    This module provides implementations of the riichi mahjong including the\n",
      "    following features:\n",
      "\n",
      "    - The core feature - player state maintenance driven by mjai events (via\n",
      "      `state.PlayerState`).\n",
      "    - Read mjai logs and produce a batch of instances for training (via\n",
      "      `dataset`).\n",
      "    - Self-play under standard Tenhou rules (via `arena`).\n",
      "    - Definitions of observation and action space for Mortal (via `consts`).\n",
      "    - Statistical works on mjai logs (via `stat.Stat`).\n",
      "    - mjai interface (via `mjai.Bot`).\n",
      "\n",
      "DATA\n",
      "    __all__ = ['__profile__', '__version__', 'consts', 'state', 'dataset',...\n",
      "    __profile__ = 'release'\n",
      "\n",
      "VERSION\n",
      "    0.1.0\n",
      "\n",
      "FILE\n",
      "    e:\\code\\mortal\\mortal\\libriichi.pyd\n",
      "\n",
      "\n"
     ]
    }
   ],
   "source": [
    "import libriichi\n",
    "help(libriichi)"
   ]
  },
  {
   "cell_type": "code",
   "execution_count": 2,
   "metadata": {},
   "outputs": [],
   "source": [
    "loader = libriichi.dataset.GameplayLoader(version = 1)"
   ]
  },
  {
   "cell_type": "code",
   "execution_count": 139,
   "metadata": {},
   "outputs": [
    {
     "name": "stdout",
     "output_type": "stream",
     "text": [
      "[<builtins.Gameplay object at 0x0000020D16DBC1A0>, <builtins.Gameplay object at 0x0000020D17B91000>, <builtins.Gameplay object at 0x0000020D17B91170>, <builtins.Gameplay object at 0x0000020D17B912E0>]\n",
      "[<builtins.Gameplay object at 0x0000020D17B91450>, <builtins.Gameplay object at 0x0000020D17B92870>, <builtins.Gameplay object at 0x0000020D17B91730>, <builtins.Gameplay object at 0x0000020D17B91A10>]\n",
      "[<builtins.Gameplay object at 0x0000020D17B91B80>, <builtins.Gameplay object at 0x0000020D17B90D20>, <builtins.Gameplay object at 0x0000020D17B91CF0>, <builtins.Gameplay object at 0x0000020D17B91E60>]\n",
      "[<builtins.Gameplay object at 0x0000020D17B90A40>, <builtins.Gameplay object at 0x0000020D17B90E90>, <builtins.Gameplay object at 0x0000020D17B91FD0>, <builtins.Gameplay object at 0x0000020D17B918A0>]\n"
     ]
    }
   ],
   "source": [
    "import libriichi  # 假设你的 Rust 模块名为 libriichi\n",
    "import logging\n",
    "\n",
    "def load_and_process_gameplay(rust_loader, mjai_log_path):\n",
    "    \"\"\"\n",
    "    加载并处理单个 mjai 日志文件的 Gameplay 数据。\n",
    "    \"\"\"\n",
    "    try:\n",
    "        with open(mjai_log_path, 'r', encoding='utf-8') as f:\n",
    "            log_content = f.read()\n",
    "        gameplays = rust_loader.load_log(log_content)\n",
    "        logging.info(f\"Successfully loaded {len(gameplays)} Gameplay instances from {mjai_log_path}\")\n",
    "        print(gameplays)\n",
    "        return gameplays\n",
    "    except Exception as e:\n",
    "        logging.error(f\"Error loading log {mjai_log_path}: {e}\")\n",
    "        return None\n",
    "\n",
    "\n",
    "# 示例：初始化 Rust 的 GameplayLoader\n",
    "loaders = []\n",
    "for version in [1, 2, 3, 4]:\n",
    "    loader = libriichi.dataset.GameplayLoader(version=version)\n",
    "    loaders.append(loader)\n",
    "\n",
    "# 示例：加载并处理一个转换后的 mjai 日志文件\n",
    "mjai_log_path = \"20230101.html/2023010100gm-00a9-0000-7fcb3f13.json\"\n",
    "gameplays_v = []\n",
    "for loader in loaders:\n",
    "    gameplays = load_and_process_gameplay(loader, mjai_log_path)\n",
    "    if gameplays is not None:\n",
    "        gameplays_v.append(gameplays)\n",
    "\n"
   ]
  },
  {
   "cell_type": "code",
   "execution_count": 140,
   "metadata": {},
   "outputs": [],
   "source": [
    "obss = []\n",
    "for gameplays in gameplays_v:\n",
    "    for gameplay in gameplays:\n",
    "        obss.append(gameplay.take_obs())\n",
    "gameplays = gameplays_v[0]\n",
    "actions = []\n",
    "for gameplay in gameplays:\n",
    "    actions.append(gameplay.take_actions())"
   ]
  },
  {
   "cell_type": "code",
   "execution_count": 154,
   "metadata": {},
   "outputs": [
    {
     "name": "stdout",
     "output_type": "stream",
     "text": [
      "dora指示牌编码:\n",
      " [[0. 0. 0. 0. 0. 0. 0. 0. 0. 0. 0. 0. 0. 0. 0. 0. 0. 0. 1. 0. 0. 0. 0. 0.\n",
      "  0. 0. 0. 0. 0. 0. 0. 0. 0. 0.]\n",
      " [0. 0. 0. 0. 0. 0. 0. 0. 0. 0. 0. 0. 0. 0. 0. 0. 0. 0. 0. 0. 0. 0. 0. 0.\n",
      "  0. 0. 0. 0. 0. 0. 0. 0. 0. 0.]\n",
      " [0. 0. 0. 0. 0. 0. 0. 0. 0. 0. 0. 0. 0. 0. 0. 0. 0. 0. 0. 0. 0. 0. 0. 0.\n",
      "  0. 0. 0. 0. 0. 0. 0. 0. 0. 0.]\n",
      " [0. 0. 0. 0. 0. 0. 0. 0. 0. 0. 0. 0. 0. 0. 0. 0. 0. 0. 0. 0. 0. 0. 0. 0.\n",
      "  0. 0. 0. 0. 0. 0. 0. 0. 0. 0.]\n",
      " [0. 0. 0. 0. 0. 0. 0. 0. 0. 0. 0. 0. 0. 0. 0. 0. 0. 0. 0. 0. 0. 0. 0. 0.\n",
      "  0. 0. 0. 0. 0. 0. 0. 0. 0. 0.]\n",
      " [0. 0. 0. 0. 0. 0. 0. 0. 0. 0. 0. 0. 0. 0. 0. 0. 0. 0. 0. 0. 0. 0. 0. 0.\n",
      "  0. 0. 0. 0. 0. 0. 0. 0. 0. 0.]\n",
      " [0. 0. 0. 0. 0. 0. 0. 0. 0. 0. 0. 0. 0. 0. 0. 0. 0. 0. 0. 0. 0. 0. 0. 0.\n",
      "  0. 0. 0. 0. 0. 0. 0. 0. 0. 0.]]\n",
      "牌河的编码以四个通道一组，分别表示杠牌，舍牌，红宝牌和普通dora牌\n",
      "自家牌河编码(前6):\n",
      "\n",
      "[[0. 0. 0. 0. 0. 0. 0. 0. 0. 0. 0. 0. 0. 0. 0. 0. 0. 0. 0. 0. 0. 0. 0. 0.\n",
      "  0. 0. 0. 0. 0. 0. 0. 0. 0. 0.]\n",
      " [0. 0. 0. 0. 0. 0. 0. 0. 0. 0. 0. 0. 0. 0. 0. 0. 0. 0. 0. 0. 0. 0. 0. 0.\n",
      "  0. 0. 0. 0. 0. 0. 0. 0. 0. 0.]\n",
      " [0. 0. 0. 0. 0. 0. 0. 0. 0. 0. 0. 0. 0. 0. 0. 0. 0. 0. 0. 0. 0. 0. 0. 0.\n",
      "  0. 0. 0. 0. 0. 0. 0. 0. 0. 0.]\n",
      " [0. 0. 0. 0. 0. 0. 0. 0. 0. 0. 0. 0. 0. 0. 0. 0. 0. 0. 0. 0. 0. 0. 0. 0.\n",
      "  0. 0. 0. 0. 0. 0. 0. 0. 0. 0.]]\n",
      "--------------------------------------------------------------------\n",
      "[[0. 0. 0. 0. 0. 0. 0. 0. 0. 0. 0. 0. 0. 0. 0. 0. 0. 0. 0. 0. 0. 0. 0. 0.\n",
      "  0. 0. 0. 0. 0. 0. 0. 0. 0. 0.]\n",
      " [0. 0. 0. 0. 0. 0. 0. 0. 0. 0. 0. 0. 0. 0. 0. 0. 0. 0. 0. 0. 0. 0. 0. 0.\n",
      "  0. 0. 0. 0. 1. 0. 0. 0. 0. 0.]\n",
      " [0. 0. 0. 0. 0. 0. 0. 0. 0. 0. 0. 0. 0. 0. 0. 0. 0. 0. 0. 0. 0. 0. 0. 0.\n",
      "  0. 0. 0. 0. 0. 0. 0. 0. 0. 0.]\n",
      " [0. 0. 0. 0. 0. 0. 0. 0. 0. 0. 0. 0. 0. 0. 0. 0. 0. 0. 0. 0. 0. 0. 0. 0.\n",
      "  0. 0. 0. 0. 0. 0. 0. 0. 0. 0.]]\n",
      "--------------------------------------------------------------------\n",
      "[[0. 0. 0. 0. 0. 0. 0. 0. 0. 0. 0. 0. 0. 0. 0. 0. 0. 0. 0. 0. 0. 0. 0. 0.\n",
      "  0. 0. 0. 0. 0. 0. 0. 0. 0. 0.]\n",
      " [0. 0. 0. 0. 0. 0. 0. 0. 0. 0. 0. 0. 0. 0. 0. 0. 0. 0. 0. 0. 0. 0. 0. 0.\n",
      "  0. 0. 1. 0. 0. 0. 0. 0. 0. 0.]\n",
      " [0. 0. 0. 0. 0. 0. 0. 0. 0. 0. 0. 0. 0. 0. 0. 0. 0. 0. 0. 0. 0. 0. 0. 0.\n",
      "  0. 0. 0. 0. 0. 0. 0. 0. 0. 0.]\n",
      " [0. 0. 0. 0. 0. 0. 0. 0. 0. 0. 0. 0. 0. 0. 0. 0. 0. 0. 0. 0. 0. 0. 0. 0.\n",
      "  0. 0. 0. 0. 0. 0. 0. 0. 0. 0.]]\n",
      "--------------------------------------------------------------------\n",
      "[[0. 0. 0. 0. 0. 0. 0. 0. 0. 0. 0. 0. 0. 0. 0. 0. 0. 0. 0. 0. 0. 0. 0. 0.\n",
      "  0. 0. 0. 0. 0. 0. 0. 0. 0. 0.]\n",
      " [0. 0. 0. 0. 0. 0. 0. 0. 0. 0. 0. 0. 0. 0. 0. 0. 0. 0. 0. 0. 0. 0. 0. 0.\n",
      "  0. 1. 0. 0. 0. 0. 0. 0. 0. 0.]\n",
      " [0. 0. 0. 0. 0. 0. 0. 0. 0. 0. 0. 0. 0. 0. 0. 0. 0. 0. 0. 0. 0. 0. 0. 0.\n",
      "  0. 0. 0. 0. 0. 0. 0. 0. 0. 0.]\n",
      " [0. 0. 0. 0. 0. 0. 0. 0. 0. 0. 0. 0. 0. 0. 0. 0. 0. 0. 0. 0. 0. 0. 0. 0.\n",
      "  0. 0. 0. 0. 0. 0. 0. 0. 0. 0.]]\n",
      "--------------------------------------------------------------------\n",
      "[[0. 0. 0. 0. 0. 0. 0. 0. 0. 0. 0. 0. 0. 0. 0. 0. 0. 0. 0. 0. 0. 0. 0. 0.\n",
      "  0. 0. 0. 0. 0. 0. 0. 0. 0. 0.]\n",
      " [0. 0. 0. 0. 0. 0. 0. 0. 0. 0. 0. 0. 0. 0. 0. 0. 0. 0. 0. 0. 0. 0. 0. 0.\n",
      "  0. 0. 0. 0. 0. 0. 0. 0. 0. 0.]\n",
      " [0. 0. 0. 0. 0. 0. 0. 0. 0. 0. 0. 0. 0. 0. 0. 0. 0. 0. 0. 0. 0. 0. 0. 0.\n",
      "  0. 0. 0. 0. 0. 0. 0. 0. 0. 0.]\n",
      " [0. 0. 0. 0. 0. 0. 0. 0. 0. 0. 0. 0. 0. 0. 0. 0. 0. 0. 0. 0. 0. 0. 0. 0.\n",
      "  0. 0. 0. 0. 0. 0. 0. 0. 0. 0.]]\n",
      "--------------------------------------------------------------------\n",
      "[[0. 0. 0. 0. 0. 0. 0. 0. 0. 0. 0. 0. 0. 0. 0. 0. 0. 0. 0. 0. 0. 0. 0. 0.\n",
      "  0. 0. 0. 0. 0. 0. 0. 0. 0. 0.]\n",
      " [0. 0. 0. 0. 0. 0. 0. 0. 0. 0. 0. 0. 0. 0. 0. 0. 0. 0. 0. 0. 0. 0. 0. 0.\n",
      "  0. 0. 0. 0. 0. 0. 0. 0. 0. 0.]\n",
      " [0. 0. 0. 0. 0. 0. 0. 0. 0. 0. 0. 0. 0. 0. 0. 0. 0. 0. 0. 0. 0. 0. 0. 0.\n",
      "  0. 0. 0. 0. 0. 0. 0. 0. 0. 0.]\n",
      " [0. 0. 0. 0. 0. 0. 0. 0. 0. 0. 0. 0. 0. 0. 0. 0. 0. 0. 0. 0. 0. 0. 0. 0.\n",
      "  0. 0. 0. 0. 0. 0. 0. 0. 0. 0.]]\n",
      "--------------------------------------------------------------------\n"
     ]
    }
   ],
   "source": [
    "version = 1\n",
    "player_id = 1\n",
    "decision_points_idx = 39\n",
    "# print(\"obs len:\", len(obss[(version-1)*4+player_id]))\n",
    "# print(\"手牌编码:\\n\", obss[(version-1)*4+player_id][decision_points_idx][0:7])\n",
    "# print(\"点数编码:\\n\", obss[(version-1)*4+player_id][decision_points_idx][7:11])\n",
    "# print(\"排名编码:\\n\", obss[(version-1)*4+player_id][decision_points_idx][11:15])\n",
    "# print(\"局数编码:\\n\", obss[(version-1)*4+player_id][decision_points_idx][15:19])\n",
    "# print(\"本场和供托编码:\\n\", obss[(version-1)*4+player_id][decision_points_idx][19:39])\n",
    "# print(\"场风与自风编码:\\n\", obss[(version-1)*4+player_id][decision_points_idx][39:41])\n",
    "print(\"dora指示牌编码:\\n\", obss[(version-1)*4+player_id][decision_points_idx][41:48])\n",
    "print(\"牌河的编码以四个通道一组，分别表示杠牌，舍牌，红宝牌和普通dora牌\")\n",
    "print(\"自家牌河编码(前6):\\n\")\n",
    "for i in range(6):\n",
    "    print(obss[(version-1)*4+player_id][decision_points_idx][48+i*4:48+i*4+4])\n",
    "    print(\"--------------------------------------------------------------------\")"
   ]
  },
  {
   "cell_type": "code",
   "execution_count": 97,
   "metadata": {},
   "outputs": [
    {
     "name": "stdout",
     "output_type": "stream",
     "text": [
      "actions length: 69\n",
      "player0:\n",
      " [9, 29, 0, 8, 31, 15, 12, 45, 11, 20, 27, 45, 23, 17, 37, 3, 45, 28, 31, 27, 33, 2, 27, 19, 45, 20, 45, 3, 3, 18, 27, 30, 27, 33, 45, 10, 33, 32, 27, 26, 31, 28, 5, 29, 0, 45, 15, 20, 2, 18, 40, 3, 32, 15, 24, 0, 8, 31, 9, 18, 45, 20, 8, 45, 37, 24, 21, 24, 43]\n"
     ]
    }
   ],
   "source": [
    "print(\"actions length:\", len(actions[0]))\n",
    "print(\"player0:\\n\", actions[0])"
   ]
  },
  {
   "cell_type": "code",
   "execution_count": null,
   "metadata": {},
   "outputs": [],
   "source": [
    "akochan_agent = libriichi.arena.OneVsThree.ako"
   ]
  }
 ],
 "metadata": {
  "kernelspec": {
   "display_name": "RL",
   "language": "python",
   "name": "python3"
  },
  "language_info": {
   "codemirror_mode": {
    "name": "ipython",
    "version": 3
   },
   "file_extension": ".py",
   "mimetype": "text/x-python",
   "name": "python",
   "nbconvert_exporter": "python",
   "pygments_lexer": "ipython3",
   "version": "3.12.3"
  }
 },
 "nbformat": 4,
 "nbformat_minor": 2
}
