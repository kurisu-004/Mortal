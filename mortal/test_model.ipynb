{
 "cells": [
  {
   "cell_type": "code",
   "execution_count": 21,
   "metadata": {},
   "outputs": [
    {
     "name": "stdout",
     "output_type": "stream",
     "text": [
      "inputs PackedSequence(data=tensor([[0.0000, 0.0000, 0.0000, 2.5000, 2.5000, 2.5000, 2.5000],\n",
      "        [1.0000, 0.0000, 0.0000, 1.9000, 3.8000, 2.1000, 2.2000],\n",
      "        [1.0000, 1.0000, 0.0000, 1.9000, 4.9600, 0.9400, 2.2000],\n",
      "        [2.0000, 2.0000, 1.0000, 1.7500, 4.8100, 0.9900, 2.3500],\n",
      "        [3.0000, 3.0000, 1.0000, 1.7500, 4.8100, 0.9900, 2.3500],\n",
      "        [4.0000, 0.0000, 0.0000, 2.7400, 4.5800, 0.7600, 1.9200],\n",
      "        [5.0000, 0.0000, 0.0000, 2.7400, 4.7800, 0.5600, 1.9200],\n",
      "        [5.0000, 1.0000, 0.0000, 2.3400, 5.9800, 0.1600, 1.5200],\n",
      "        [6.0000, 2.0000, 0.0000, 2.1900, 5.8300, 0.3100, 1.6700],\n",
      "        [7.0000, 0.0000, 0.0000, 2.1000, 5.7400, 0.1600, 2.0000]],\n",
      "       dtype=torch.float64), batch_sizes=tensor([1, 1, 1, 1, 1, 1, 1, 1, 1, 1]), sorted_indices=tensor([0]), unsorted_indices=tensor([0]))\n",
      "rank_by_player tensor([[1, 0, 3, 2]])\n",
      "logits tensor([[ 0.0415, -0.2277,  0.1656,  0.1896,  0.1010, -0.1581,  0.0485,  0.0925,\n",
      "          0.0107,  0.0652, -0.0778,  0.0097, -0.0809, -0.0600,  0.0160, -0.1268,\n",
      "         -0.0649, -0.1085, -0.1373,  0.0397, -0.0460,  0.0615,  0.1071,  0.1092]],\n",
      "       dtype=torch.float64, grad_fn=<AddmmBackward0>)\n",
      "label tensor([7])\n",
      "player_prob tensor([[[0.2567, 0.2556, 0.2322, 0.2555],\n",
      "         [0.2457, 0.2387, 0.2778, 0.2377],\n",
      "         [0.2472, 0.2528, 0.2514, 0.2486],\n",
      "         [0.2504, 0.2529, 0.2386, 0.2581]]], dtype=torch.float64,\n",
      "       grad_fn=<CopySlices>)\n"
     ]
    }
   ],
   "source": [
    "from model import GRP\n",
    "from libriichi.dataset import Grp\n",
    "from train_grp import GrpFileDatasetsIter\n",
    "import torch\n",
    "import glob\n",
    "from torch.utils.data import DataLoader\n",
    "from torch.nn.utils.rnn import pad_sequence, pack_padded_sequence\n",
    "\n",
    "def collate(batch):\n",
    "    inputs = []\n",
    "    lengths = []\n",
    "    rank_by_players = []\n",
    "    for inputs_seq, rank_by_player in batch:\n",
    "        inputs.append(inputs_seq)\n",
    "        lengths.append(len(inputs_seq))\n",
    "        rank_by_players.append(rank_by_player)\n",
    "\n",
    "    lengths = torch.tensor(lengths)\n",
    "    rank_by_players = torch.tensor(rank_by_players, dtype=torch.int64)\n",
    "\n",
    "    padded = pad_sequence(inputs, batch_first=True)\n",
    "    packed_inputs = pack_padded_sequence(padded, lengths, batch_first=True, enforce_sorted=False)\n",
    "\n",
    "    return packed_inputs, rank_by_players\n",
    "train_file_list = glob.glob(\"dataset/train/**/*.json.gz\", recursive=True)\n",
    "train_file_data = GrpFileDatasetsIter(\n",
    "    file_list = train_file_list,\n",
    "    file_batch_size = 50,\n",
    "    cycle = True,\n",
    ")\n",
    "train_data_loader = iter(DataLoader(\n",
    "    dataset = train_file_data,\n",
    "    batch_size = 1,\n",
    "    drop_last = True,\n",
    "    num_workers = 0,\n",
    "    collate_fn = collate,\n",
    "))\n",
    "grp = GRP()\n",
    "\n",
    "grp.eval()\n",
    "for inputs, rank_by_player in train_data_loader:\n",
    "    logits = grp.forward_packed(inputs)\n",
    "    label = grp.get_label(rank_by_player)\n",
    "    print(\"inputs\", inputs)\n",
    "    print(\"rank_by_player\", rank_by_player)\n",
    "    print(\"logits\", logits)\n",
    "    print(\"label\", label)\n",
    "    player_prob = grp.calc_matrix(logits)\n",
    "    print(\"player_prob\", player_prob)\n",
    "    break\n",
    "\n",
    "\n"
   ]
  }
 ],
 "metadata": {
  "kernelspec": {
   "display_name": "RL",
   "language": "python",
   "name": "python3"
  },
  "language_info": {
   "codemirror_mode": {
    "name": "ipython",
    "version": 3
   },
   "file_extension": ".py",
   "mimetype": "text/x-python",
   "name": "python",
   "nbconvert_exporter": "python",
   "pygments_lexer": "ipython3",
   "version": "3.12.3"
  }
 },
 "nbformat": 4,
 "nbformat_minor": 2
}
